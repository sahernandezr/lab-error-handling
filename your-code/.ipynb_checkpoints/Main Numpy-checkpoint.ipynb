{
 "cells": [
  {
   "cell_type": "code",
   "execution_count": 10,
   "metadata": {},
   "outputs": [],
   "source": [
    "#1. Import the NUMPY package under the name np.\n",
    "\n",
    "import numpy as np\n"
   ]
  },
  {
   "cell_type": "code",
   "execution_count": 2,
   "metadata": {},
   "outputs": [
    {
     "data": {
      "text/plain": [
       "'1.14.3'"
      ]
     },
     "execution_count": 2,
     "metadata": {},
     "output_type": "execute_result"
    }
   ],
   "source": [
    "#2. Print the NUMPY version and the configuration.\n",
    "\n",
    "np.version.version"
   ]
  },
  {
   "cell_type": "code",
   "execution_count": 3,
   "metadata": {},
   "outputs": [],
   "source": [
    "#3. Generate a 2x3x5 3-dimensional array with random values. Assign the array to variable \"a\"\n",
    "\n",
    "a = np.random.random((2, 3, 5))"
   ]
  },
  {
   "cell_type": "code",
   "execution_count": 4,
   "metadata": {},
   "outputs": [
    {
     "name": "stdout",
     "output_type": "stream",
     "text": [
      "[[0.38857322 0.2558367  0.26225923 0.52572521]\n",
      " [0.26388176 0.74158005 0.00140106 0.47200418]\n",
      " [0.88563178 0.2379946  0.48250089 0.95418604]\n",
      " [0.70340482 0.43288896 0.12851027 0.08079516]]\n"
     ]
    }
   ],
   "source": [
    "# Challenge: there are at least three easy ways that use numpy to generate random arrays. How many ways can you find?\n",
    "c = np.random.random((4, 4))  #arguments are the size of array\n",
    "print(c)"
   ]
  },
  {
   "cell_type": "code",
   "execution_count": 5,
   "metadata": {},
   "outputs": [
    {
     "name": "stdout",
     "output_type": "stream",
     "text": [
      "[[84 24 15 93]\n",
      " [54 30 98 44]\n",
      " [83 10 37 79]\n",
      " [ 3 18 37 90]]\n"
     ]
    }
   ],
   "source": [
    "d = np.random.randint(0 , 101, (4, 4)) #arguments are min (inclusive), max (exsclusive), size of array and type of result default is int\n",
    "print(d)"
   ]
  },
  {
   "cell_type": "code",
   "execution_count": 6,
   "metadata": {},
   "outputs": [
    {
     "name": "stdout",
     "output_type": "stream",
     "text": [
      "[[-1.32556326 -0.30722175 -0.00804149  0.76830867]\n",
      " [ 0.13920218 -0.84502271  0.30795007  0.66261672]\n",
      " [ 0.23454048  0.37836586  1.78317581 -0.15855553]\n",
      " [ 0.33344531 -0.8078783  -1.65824119 -1.53183875]]\n"
     ]
    }
   ],
   "source": [
    "e = np.random.randn(4,4) #argument is size of desired array / Return a sample (or samples) from the “standard normal” distribution.\n",
    "print(e)"
   ]
  },
  {
   "cell_type": "code",
   "execution_count": 11,
   "metadata": {},
   "outputs": [
    {
     "name": "stdout",
     "output_type": "stream",
     "text": [
      "[[[0.11682899 0.11152008 0.97121954 0.09605881 0.64466115]\n",
      "  [0.49732642 0.15586154 0.92429239 0.84189398 0.49155217]\n",
      "  [0.43111851 0.15460512 0.5158056  0.39445735 0.70016767]]\n",
      "\n",
      " [[0.33973726 0.26531869 0.54110851 0.46028418 0.15239497]\n",
      "  [0.83948015 0.87975484 0.9087772  0.72650129 0.76736406]\n",
      "  [0.14433361 0.28504795 0.43522384 0.19045221 0.37902622]]]\n"
     ]
    }
   ],
   "source": [
    "#4. Print a.\n",
    "print(a)"
   ]
  },
  {
   "cell_type": "code",
   "execution_count": 12,
   "metadata": {},
   "outputs": [
    {
     "name": "stdout",
     "output_type": "stream",
     "text": [
      "[[[1. 1. 1.]\n",
      "  [1. 1. 1.]]\n",
      "\n",
      " [[1. 1. 1.]\n",
      "  [1. 1. 1.]]\n",
      "\n",
      " [[1. 1. 1.]\n",
      "  [1. 1. 1.]]\n",
      "\n",
      " [[1. 1. 1.]\n",
      "  [1. 1. 1.]]\n",
      "\n",
      " [[1. 1. 1.]\n",
      "  [1. 1. 1.]]]\n"
     ]
    }
   ],
   "source": [
    "#5. Create a 5x2x3 3-dimensional array with all values equaling 1.\n",
    "#Assign the array to variable \"b\"\n",
    "\n",
    "b = np.ones((5, 2, 3))\n",
    "print(b)"
   ]
  },
  {
   "cell_type": "code",
   "execution_count": null,
   "metadata": {},
   "outputs": [],
   "source": []
  }
 ],
 "metadata": {
  "kernelspec": {
   "display_name": "Python 3",
   "language": "python",
   "name": "python3"
  },
  "language_info": {
   "codemirror_mode": {
    "name": "ipython",
    "version": 3
   },
   "file_extension": ".py",
   "mimetype": "text/x-python",
   "name": "python",
   "nbconvert_exporter": "python",
   "pygments_lexer": "ipython3",
   "version": "3.6.5"
  }
 },
 "nbformat": 4,
 "nbformat_minor": 2
}
